{
  "nbformat": 4,
  "nbformat_minor": 0,
  "metadata": {
    "colab": {
      "name": "Checkpoint4",
      "provenance": [],
      "collapsed_sections": []
    },
    "kernelspec": {
      "name": "python3",
      "display_name": "Python 3"
    },
    "language_info": {
      "name": "python"
    }
  },
  "cells": [
    {
      "cell_type": "code",
      "execution_count": null,
      "metadata": {
        "colab": {
          "base_uri": "https://localhost:8080/"
        },
        "id": "_7bsQUpZBeSS",
        "outputId": "b792c0c3-2a1f-46d6-aab5-de0895395df7"
      },
      "outputs": [
        {
          "output_type": "stream",
          "name": "stdout",
          "text": [
            "32\n",
            "12\n",
            "5\n",
            "32\n"
          ]
        }
      ],
      "source": [
        "#Question1\n",
        "def maximum():\n",
        "  x=int(input())\n",
        "  y=int(input())\n",
        "  z=int(input())\n",
        "  if x>=y and x>=z:\n",
        "    print(x)\n",
        "  elif y>=x and y>=z:\n",
        "    print(y)\n",
        "  elif z>=x and z>=y:\n",
        "    print(z)\n",
        "maximum()"
      ]
    },
    {
      "cell_type": "code",
      "source": [
        "#Question2\n",
        "def calculation():\n",
        "  a=int(input())\n",
        "  b=int(input())\n",
        "  x=a+b\n",
        "  y=a-b\n",
        "  return(x,y)\n",
        "calculation()"
      ],
      "metadata": {
        "colab": {
          "base_uri": "https://localhost:8080/"
        },
        "id": "rUayNal4CHuJ",
        "outputId": "43493799-22c4-4311-85b4-646cd4fefa47"
      },
      "execution_count": null,
      "outputs": [
        {
          "name": "stdout",
          "output_type": "stream",
          "text": [
            "40\n",
            "10\n"
          ]
        },
        {
          "output_type": "execute_result",
          "data": {
            "text/plain": [
              "(50, 30)"
            ]
          },
          "metadata": {},
          "execution_count": 2
        }
      ]
    },
    {
      "cell_type": "code",
      "source": [
        "#Question3 partie 1\n",
        "liste=[1,2,3,4,5]\n",
        "\n",
        "def somme(liste):\n",
        "  L=0\n",
        "  for i in liste:\n",
        "   L+=i\n",
        "  return(L)\n",
        "somme(liste)\n"
      ],
      "metadata": {
        "colab": {
          "base_uri": "https://localhost:8080/"
        },
        "id": "92oIWZ4uCdVi",
        "outputId": "200f474d-113d-4111-fdee-a7676dd86616"
      },
      "execution_count": null,
      "outputs": [
        {
          "output_type": "execute_result",
          "data": {
            "text/plain": [
              "15"
            ]
          },
          "metadata": {},
          "execution_count": 17
        }
      ]
    },
    {
      "cell_type": "code",
      "source": [
        "#Question3 partie 2\n",
        "def mult(liste):\n",
        "  M=1\n",
        "  for i in liste:\n",
        "    M=M*i\n",
        "  return(M)\n",
        "mult(liste)"
      ],
      "metadata": {
        "colab": {
          "base_uri": "https://localhost:8080/"
        },
        "id": "of2Q_zaOFrf2",
        "outputId": "f1c3be66-911c-4915-e6fa-bb0deb28bc51"
      },
      "execution_count": null,
      "outputs": [
        {
          "output_type": "execute_result",
          "data": {
            "text/plain": [
              "120"
            ]
          },
          "metadata": {},
          "execution_count": 18
        }
      ]
    },
    {
      "cell_type": "code",
      "source": [
        "#Question 3 partie 3\n",
        "list1=[1,2,3,4,5,6]\n",
        "list2=[]\n",
        "list3=[]\n",
        "for i in range(len(list1)) :\n",
        "  if i%2==0:\n",
        "    list2.append(list1[i])\n",
        "  else:\n",
        "    list3.append(list1[i])\n",
        "print(list2,list3)\n",
        "somme(list2)"
      ],
      "metadata": {
        "colab": {
          "base_uri": "https://localhost:8080/"
        },
        "id": "m09DQA-mF4Vl",
        "outputId": "0a749770-cafd-4223-9d1f-832f4f6b6f0b"
      },
      "execution_count": null,
      "outputs": [
        {
          "output_type": "stream",
          "name": "stdout",
          "text": [
            "[1, 3, 5] [2, 4, 6]\n"
          ]
        },
        {
          "output_type": "execute_result",
          "data": {
            "text/plain": [
              "9"
            ]
          },
          "metadata": {},
          "execution_count": 22
        }
      ]
    },
    {
      "cell_type": "code",
      "source": [
        "#Question3 fin\n",
        "mult(list3)"
      ],
      "metadata": {
        "id": "9Gq4fhY8e175",
        "colab": {
          "base_uri": "https://localhost:8080/"
        },
        "outputId": "925b4f73-6000-44ef-de8a-88d1a83a1b1e"
      },
      "execution_count": null,
      "outputs": [
        {
          "output_type": "execute_result",
          "data": {
            "text/plain": [
              "48"
            ]
          },
          "metadata": {},
          "execution_count": 21
        }
      ]
    },
    {
      "cell_type": "code",
      "source": [
        "from IPython.utils.text import list_strings\n",
        "#Question4\n",
        "def colors():\n",
        "  lst =\"green- red- yellow- black- white\".split(\"-\")\n",
        "  lst.sort()\n",
        "  print(\"-\".join(lst))\n",
        "colors()\n",
        "\n",
        "\n"
      ],
      "metadata": {
        "id": "5Trthw0Ie1vh",
        "colab": {
          "base_uri": "https://localhost:8080/"
        },
        "outputId": "612ad2fe-998e-49a5-a977-2d54dbab94d8"
      },
      "execution_count": 25,
      "outputs": [
        {
          "output_type": "stream",
          "name": "stdout",
          "text": [
            " black- red- white- yellow-green\n"
          ]
        }
      ]
    },
    {
      "cell_type": "code",
      "source": [
        "#Question5\n",
        "def racine():\n",
        "  c=50\n",
        "  h=30\n",
        "  d=[100,150,180]\n",
        "  for i in d :\n",
        "    q=int( ( (2*c*i)/h )**(1/2) )\n",
        "    print(q)\n",
        "racine()\n",
        "  \n"
      ],
      "metadata": {
        "id": "N6tNhGU1McZF",
        "colab": {
          "base_uri": "https://localhost:8080/"
        },
        "outputId": "71710604-9be5-4612-8c1f-2dee5232185b"
      },
      "execution_count": 8,
      "outputs": [
        {
          "output_type": "stream",
          "name": "stdout",
          "text": [
            "18\n",
            "22\n",
            "24\n"
          ]
        }
      ]
    }
  ]
}